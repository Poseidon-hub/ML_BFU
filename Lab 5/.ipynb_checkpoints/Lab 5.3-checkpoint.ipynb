{
 "cells": [
  {
   "cell_type": "code",
   "execution_count": null,
   "id": "initial_id",
   "metadata": {
    "collapsed": true
   },
   "outputs": [],
   "source": [
    ""
   ]
  },
  {
   "metadata": {
    "ExecuteTime": {
     "end_time": "2025-05-13T23:39:04.485486Z",
     "start_time": "2025-05-13T23:39:03.216116Z"
    }
   },
   "cell_type": "code",
   "source": [
    "import pandas as pd\n",
    "import numpy as np\n",
    "import matplotlib.pyplot as plt\n",
    "from sklearn.ensemble import RandomForestClassifier\n",
    "from sklearn.model_selection import train_test_split\n",
    "from sklearn.metrics import accuracy_score\n",
    "import time\n",
    "from xgboost import XGBClassifier\n",
    "from sklearn.model_selection import RandomizedSearchCV\n",
    "from scipy.stats import randint\n",
    "from hyperopt import hp, fmin, tpe, Trials, STATUS_OK\n",
    "import warnings\n",
    "\n",
    "# Загрузка данных\n",
    "data = pd.read_csv('diabetes.csv')\n",
    "X = data.drop('Outcome', axis=1)\n",
    "y = data['Outcome']\n",
    "\n",
    "# Разделение данных на обучающую и тестовую выборки\n",
    "X_train, X_test, y_train, y_test = train_test_split(X, y, test_size=0.3, random_state=42)"
   ],
   "id": "d0a234a5e510f208",
   "outputs": [],
   "execution_count": 2
  },
  {
   "metadata": {
    "ExecuteTime": {
     "end_time": "2025-05-13T23:39:15.132917Z",
     "start_time": "2025-05-13T23:39:06.081690Z"
    }
   },
   "cell_type": "code",
   "source": [
    "\"\"\"Подбор гиперпараметров с использованием Random Search (Scikit-Learn)\"\"\"\n",
    "\n",
    "# Определение пространства параметров для Random Forest\n",
    "param_dist = {\n",
    "    'n_estimators': randint(50, 300),\n",
    "    'max_depth': randint(3, 15),\n",
    "    'max_features': randint(1, X.shape[1]+1),\n",
    "    'min_samples_split': randint(2, 11),\n",
    "    'min_samples_leaf': randint(1, 5),\n",
    "    'bootstrap': [True, False]\n",
    "}\n",
    "\n",
    "# Создание модели\n",
    "rf = RandomForestClassifier(random_state=42)\n",
    "\n",
    "# Настройка Random Search\n",
    "random_search = RandomizedSearchCV(\n",
    "    rf,\n",
    "    param_distributions=param_dist,\n",
    "    n_iter=50,\n",
    "    cv=5,\n",
    "    scoring='accuracy',\n",
    "    n_jobs=-1,\n",
    "    random_state=42\n",
    ")\n",
    "\n",
    "# Запуск поиска и замер времени\n",
    "start_time = time.time()\n",
    "random_search.fit(X_train, y_train)\n",
    "random_search_time = time.time() - start_time\n",
    "\n",
    "# Лучшие параметры и точность\n",
    "best_params_random = random_search.best_params_\n",
    "best_score_random = random_search.best_score_\n",
    "\n",
    "print(\"Random Search результаты:\")\n",
    "print(f\"Лучшие параметры: {best_params_random}\")\n",
    "print(f\"Лучшая точность: {best_score_random:.4f}\")\n",
    "print(f\"Время выполнения: {random_search_time:.2f} сек\")"
   ],
   "id": "2133966e72a06488",
   "outputs": [
    {
     "name": "stdout",
     "output_type": "stream",
     "text": [
      "Random Search результаты:\n",
      "Лучшие параметры: {'bootstrap': False, 'max_depth': 8, 'max_features': 2, 'min_samples_leaf': 4, 'min_samples_split': 6, 'n_estimators': 210}\n",
      "Лучшая точность: 0.7783\n",
      "Время выполнения: 9.04 сек\n"
     ]
    }
   ],
   "execution_count": 3
  },
  {
   "metadata": {
    "ExecuteTime": {
     "end_time": "2025-05-13T23:39:46.006742Z",
     "start_time": "2025-05-13T23:39:30.866910Z"
    }
   },
   "cell_type": "code",
   "source": [
    "\"\"\"Подбор гиперпараметров с использованием TPE (Hyperopt)\"\"\"\n",
    "\n",
    "# Определение пространства параметров для Hyperopt \n",
    "space = {\n",
    "    'n_estimators': hp.quniform('n_estimators', 50, 300, 10),\n",
    "    'max_depth': hp.quniform('max_depth', 3, 15, 1),\n",
    "    'max_features': hp.quniform('max_features', 1, X.shape[1], 1),\n",
    "    'min_samples_split': hp.quniform('min_samples_split', 2, 10, 1),\n",
    "    'min_samples_leaf': hp.quniform('min_samples_leaf', 1, 4, 1),\n",
    "    'bootstrap': hp.choice('bootstrap', [True, False])\n",
    "}\n",
    "\n",
    "warnings.filterwarnings(\"ignore\", category=FutureWarning)\n",
    "\n",
    "# Функция для оптимизации \n",
    "def objective(params):\n",
    "    # Преобразуем параметры в нужные типы\n",
    "    params = {\n",
    "        'n_estimators': int(params['n_estimators']),\n",
    "        'max_depth': int(params['max_depth']),\n",
    "        'max_features': int(params['max_features']),\n",
    "        'min_samples_split': int(params['min_samples_split']),\n",
    "        'min_samples_leaf': int(params['min_samples_leaf']),\n",
    "        'bootstrap': bool(params['bootstrap']),  # Явное преобразование в bool\n",
    "        'random_state': 42\n",
    "    }\n",
    "\n",
    "    rf = RandomForestClassifier(**params)\n",
    "    rf.fit(X_train, y_train)\n",
    "    y_pred = rf.predict(X_test)\n",
    "    accuracy = accuracy_score(y_test, y_pred)\n",
    "\n",
    "    return {'loss': -accuracy, 'status': STATUS_OK}\n",
    "\n",
    "\n",
    "# Исправленный запуск оптимизации\n",
    "trials = Trials()\n",
    "start_time = time.time()\n",
    "\n",
    "# Используем np.random.default_rng() \n",
    "best = fmin(\n",
    "    fn=objective,\n",
    "    space=space,\n",
    "    algo=tpe.suggest,\n",
    "    max_evals=50,\n",
    "    trials=trials,\n",
    "    rstate=np.random.default_rng(42)  \n",
    ")\n",
    "\n",
    "hyperopt_time = time.time() - start_time\n",
    "\n",
    "# Преобразование результатов\n",
    "best_params_hyperopt = {\n",
    "    'n_estimators': int(best['n_estimators']),\n",
    "    'max_depth': int(best['max_depth']),\n",
    "    'max_features': int(best['max_features']),\n",
    "    'min_samples_split': int(best['min_samples_split']),\n",
    "    'min_samples_leaf': int(best['min_samples_leaf']),\n",
    "    'bootstrap': best['bootstrap']\n",
    "}\n",
    "\n",
    "# Оценка лучшей модели\n",
    "rf_hyperopt = RandomForestClassifier(**best_params_hyperopt, random_state=42)\n",
    "rf_hyperopt.fit(X_train, y_train)\n",
    "y_pred_hyperopt = rf_hyperopt.predict(X_test)\n",
    "best_score_hyperopt = accuracy_score(y_test, y_pred_hyperopt)\n",
    "\n",
    "print(\"\\nHyperopt (TPE) результаты:\")\n",
    "print(f\"Лучшие параметры: {best_params_hyperopt}\")\n",
    "print(f\"Лучшая точность: {best_score_hyperopt:.4f}\")\n",
    "print(f\"Время выполнения: {hyperopt_time:.2f} сек\")"
   ],
   "id": "a8a36c44c3d4930a",
   "outputs": [
    {
     "name": "stdout",
     "output_type": "stream",
     "text": [
      "100%|██████████| 50/50 [00:14<00:00,  3.38trial/s, best loss: -0.7705627705627706]\n",
      "\n",
      "Hyperopt (TPE) результаты:\n",
      "Лучшие параметры: {'n_estimators': 230, 'max_depth': 7, 'max_features': 4, 'min_samples_split': 6, 'min_samples_leaf': 4, 'bootstrap': 0}\n",
      "Лучшая точность: 0.7662\n",
      "Время выполнения: 14.79 сек\n"
     ]
    }
   ],
   "execution_count": 4
  },
  {
   "metadata": {
    "ExecuteTime": {
     "end_time": "2025-05-13T23:39:48.569747Z",
     "start_time": "2025-05-13T23:39:48.469746Z"
    }
   },
   "cell_type": "code",
   "source": [
    "\"\"\"Сравнительный анализ результатов\"\"\"\n",
    "\n",
    "# Создание таблицы сравнения\n",
    "comparison = pd.DataFrame({\n",
    "    'Метод': ['Random Search', 'Hyperopt (TPE)'],\n",
    "    'Точность': [best_score_random, best_score_hyperopt],\n",
    "    'Время (сек)': [random_search_time, hyperopt_time],\n",
    "    'n_estimators': [best_params_random['n_estimators'], best_params_hyperopt['n_estimators']],\n",
    "    'max_depth': [best_params_random['max_depth'], best_params_hyperopt['max_depth']],\n",
    "    'max_features': [best_params_random['max_features'], best_params_hyperopt['max_features']],\n",
    "    'min_samples_split': [best_params_random['min_samples_split'], best_params_hyperopt['min_samples_split']],\n",
    "    'min_samples_leaf': [best_params_random['min_samples_leaf'], best_params_hyperopt['min_samples_leaf']],\n",
    "    'bootstrap': [best_params_random['bootstrap'], best_params_hyperopt['bootstrap']]\n",
    "})\n",
    "\n",
    "print(\"\\nСравнительный анализ:\")\n",
    "print(comparison)\n",
    "\n",
    "# Визуализация сравнения\n",
    "plt.figure(figsize=(10, 5))\n",
    "plt.bar(['Random Search', 'Hyperopt (TPE)'], [best_score_random, best_score_hyperopt])\n",
    "plt.title('Сравнение точности методов оптимизации')\n",
    "plt.ylabel('Точность')\n",
    "plt.ylim(0.7, 0.85)\n",
    "plt.grid(axis='y')\n",
    "plt.show()"
   ],
   "id": "53914defa642ce21",
   "outputs": [
    {
     "name": "stdout",
     "output_type": "stream",
     "text": [
      "\n",
      "Сравнительный анализ:\n",
      "            Метод  Точность  Время (сек)  n_estimators  max_depth  \\\n",
      "0   Random Search  0.778349     9.044226           210          8   \n",
      "1  Hyperopt (TPE)  0.766234    14.790833           230          7   \n",
      "\n",
      "   max_features  min_samples_split  min_samples_leaf bootstrap  \n",
      "0             2                  6                 4     False  \n",
      "1             4                  6                 4         0  \n"
     ]
    },
    {
     "data": {
      "text/plain": [
       "<Figure size 1000x500 with 1 Axes>"
      ],
      "image/png": "[encoded data removed]"
     },
     "metadata": {},
     "output_type": "display_data"
    }
   ],
   "execution_count": 5
  },
  {
   "metadata": {
    "ExecuteTime": {
     "end_time": "2025-05-13T23:39:51.435014Z",
     "start_time": "2025-05-13T23:39:51.359016Z"
    }
   },
   "cell_type": "code",
   "source": [
    "plt.figure(figsize=(10, 5))\n",
    "plt.bar(['Random Search', 'Hyperopt (TPE)'], [random_search_time, hyperopt_time], color='orange')\n",
    "plt.title('Сравнение времени выполнения методов оптимизации')\n",
    "plt.ylabel('Время (сек)')\n",
    "plt.grid(axis='y')\n",
    "plt.show()"
   ],
   "id": "1f8f96a3f7769630",
   "outputs": [
    {
     "data": {
      "text/plain": [
       "<Figure size 1000x500 with 1 Axes>"
      ],
      "image/png": "[encoded data removed]"
     },
     "metadata": {},
     "output_type": "display_data"
    }
   ],
   "execution_count": 6
  },
  {
   "metadata": {},
   "cell_type": "code",
   "outputs": [],
   "execution_count": null,
   "source": "",
   "id": "b0443f6f4a65b0f6"
  }
 ],
 "metadata": {
  "kernelspec": {
   "display_name": "Python 3",
   "language": "python",
   "name": "python3"
  },
  "language_info": {
   "codemirror_mode": {
    "name": "ipython",
    "version": 2
   },
   "file_extension": ".py",
   "mimetype": "text/x-python",
   "name": "python",
   "nbconvert_exporter": "python",
   "pygments_lexer": "ipython2",
   "version": "2.7.6"
  }
 },
 "nbformat": 4,
 "nbformat_minor": 5
}
